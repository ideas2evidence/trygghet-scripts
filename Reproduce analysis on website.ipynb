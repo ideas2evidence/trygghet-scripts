{
 "cells": [
  {
   "attachments": {},
   "cell_type": "markdown",
   "metadata": {},
   "source": [
    "This script reproduces the statistics published at trygghetsundersokelsen.no \n",
    "\n",
    "Please confer the following site for how to access data from the National Crime Survey:\n",
    "https://trygghetsundersokelsen.no/data.html#en\n",
    "\n",
    "For data documentation: https://data.trygghetsundersokelsen.no\n",
    "\n",
    "Content: \n",
    "Frequencies for the whole population is calculated for all variables.\n",
    "But all variables is not plotted against all demographic variables. \n",
    "For each variable, the script applies three demographic variables. \n",
    "But all demographic variables are used at some point. \n",
    "The demographic variables are as follows: \n",
    "\n",
    "- Age\n",
    "- Gender\n",
    "- Education\n",
    "- Immigration\n",
    "- Married\n",
    "- Children\n",
    "- County\n",
    "\n",
    "**Weighting**: All frequencies are weighted using `weight_edu`. The weight is based on demographic variables (age, gender and geography) and education level.\n",
    "\n",
    "**DISCLAIMER**: OsloMet, ideas2evidence, Frischsenteret and the Ministry of Justice and Public Security do not take any responsibility for the use and interpretation of data from the National Crime Survey. The above mentioned further take no responsibility for any negative consequences that may arise as a result of the use of this data."
   ]
  },
  {
   "cell_type": "code",
   "execution_count": null,
   "metadata": {},
   "outputs": [],
   "source": [
    "\n",
    "# Data import \n",
    "\n",
    "import pandas as pd\n",
    "import numpy as np\n",
    "\n",
    "with open(\"path.txt\", \"r\", encoding=\"utf8\") as file:\n",
    "    path = file.read().replace(\"\\n\", \"\")\n",
    "\n",
    "\n",
    "df = pd.read_spss(path + \"Norwegian Crime Survey NSD v1.sav\")\n",
    "\n",
    "#grouping features\n",
    "\n",
    "groups = ['aldersgruppe_vuttrekk_dsf', 'kjonn_dsf', 'utdanning_kort', 'innvandret', 'gift', 'barn', 'fylkenr_dsf']\n"
   ]
  },
  {
   "attachments": {},
   "cell_type": "markdown",
   "metadata": {},
   "source": [
    "### Recoding\n",
    "\n",
    "Recoding of features. \n",
    "\n",
    "All features used are recoded/mapped so that missing-categories are NaN. In addition, some response alternatives are combined/merged."
   ]
  },
  {
   "cell_type": "code",
   "execution_count": null,
   "metadata": {},
   "outputs": [],
   "source": [
    "immigration_mapping = {\n",
    "    \"No\": \"No\",\n",
    "    \"I myself have immigrated to Norway\": \"Have immigrated to Norway\",\n",
    "    \"Both my parents have immigrated to Norway, but I was born in Norway\": \"Born in Norway, but both or one of the parents immigrated\",\n",
    "    \"Mother has immigrated to Norway, but my father and I have not immigrated\": \"Born in Norway, but both or one of the parents immigrated\",\n",
    "    \"Father has immigrated to Norway, but my mother and I have not immigrated\": \"Born in Norway, but both or one of the parents immigrated\",\n",
    "    #\"Not answered\": NaN\n",
    "}\n",
    "\n",
    "df = df.assign(innvandret = df.innvandret.map(immigration_mapping))\n",
    "\n",
    "df.innvandret.value_counts()"
   ]
  },
  {
   "cell_type": "code",
   "execution_count": null,
   "metadata": {},
   "outputs": [],
   "source": [
    "married_mapping = {\n",
    "    \"Yes, married/registered partner\": \"Married or cohabitant\",\n",
    "    \"No, living alone\": \"Living alone\",\n",
    "    \"Yes, cohabitant\": \"Married or cohabitant\"\n",
    "}\n",
    "\n",
    "df = df.assign(gift = df.gift.map(married_mapping))\n",
    "\n",
    "df.gift.value_counts()\n"
   ]
  },
  {
   "cell_type": "code",
   "execution_count": null,
   "metadata": {},
   "outputs": [],
   "source": [
    "df['utdanning_kort'] = df['utdanning_kort'].map({\n",
    "    \"Higher education\": \"Higher education\",\n",
    "    \"Vocational school / High school\": \"Vocational school / High school\",\n",
    "    \"No education / Primary school\": \"No education / Primary school\"\n",
    "})\n",
    "\n",
    "df.utdanning_kort.value_counts()"
   ]
  },
  {
   "cell_type": "code",
   "execution_count": null,
   "metadata": {},
   "outputs": [],
   "source": [
    "df = df.assign(barn = df.barn.map({\n",
    "    \"Yes\": \"Has children\",\n",
    "    \"No\": \"Does not have children\"\n",
    "}))\n",
    "\n",
    "df.barn.value_counts()"
   ]
  },
  {
   "cell_type": "code",
   "execution_count": null,
   "metadata": {},
   "outputs": [],
   "source": [
    "safety1 = ['urtrygg1', 'urtrygg3']\n",
    "safety2 = ['urtrygg2']\n",
    "worry = ['urkrim_1', 'urkrim_2', 'urkrim_5', 'urkrim_7', 'urkrim_8', 'urkrim_9', 'urkrim_10']\n",
    "exposure = ['utsibilde1', 'utsiident1', 'uttbol1', 'uttlom1', 'uttran1', 'uttruss1', 'uttsyk1'] #utvrist, utvslag\n",
    "\n",
    "# Recode safety variables\n",
    "\n",
    "df['urtrygg1'] = df['urtrygg1'].map({\n",
    "    'Very safe': 'Very safe',\n",
    "    'Pretty safe': 'Pretty safe',\n",
    "    'Pretty insecure': 'Pretty insecure',\n",
    "    'Very insecure': 'Very insecure'\n",
    "    \n",
    "})\n",
    "\n",
    "df['urtrygg2'] = df['urtrygg2'].map({\n",
    "    'Yes, I always plan so that I am as safe as possible': 'Always plan ahead',\n",
    "    'Sometimes / it depends on the situation': 'Depends on the situation/Does not think about it',\n",
    "    'No, I\\'m not thinking about whether I could be the victim of a crime': 'Depends on the situation/Does not think about it'\n",
    "    \n",
    "})\n",
    "\n",
    "df['urtrygg3'] = df['urtrygg3'].map({\n",
    "    'To a large degree': 'To a large degree',\n",
    "    'To some degree': 'To some degree',\n",
    "    'To a small degree': 'To a small degree',\n",
    "    'Not at all': 'Not at all'\n",
    "})\n",
    "\n",
    "# Recode urkrim-variables\n",
    "urkrim_mapping = {\n",
    "    \"Quite often\": \"Quite often\",\n",
    "    \"Pretty often\": \"Pretty often\",\n",
    "    \"Pretty rare\": \"Pretty rare\",\n",
    "    \"Quite rare\": \"Quite rare\",\n",
    "    \"Never\": \"Never\"\n",
    "}\n",
    "\n",
    "for feature in worry:\n",
    "    df[feature] = df[feature].map(urkrim_mapping)\n",
    "\n",
    "# Recode exposure-variables\n",
    "## utvslag slightly different response scale on utvslag\n",
    "\n",
    "df['utvslag'] = df['utvslag'].map({\n",
    "    \"Yes, (number of times this happened to you in 2020)\": \"Yes\",\n",
    "    \"No\": \"No\"\n",
    "})\n",
    "\n",
    "df['utvrist'] = df['utvrist'].map({\n",
    "    \"Yes, (number of times this happened to you in 2020)\": \"Yes\",\n",
    "    \"No\": \"No\"\n",
    "})\n",
    "\n",
    "# same mapping for the rest of them\n",
    "exposure_mapping = {\n",
    "    \"Yes, (number of times)\": \"Yes\",\n",
    "    \"No\": \"No\"\n",
    "}\n",
    "\n",
    "for feature in exposure:\n",
    "    df[feature] = df[feature].map(exposure_mapping)\n",
    "\n"
   ]
  },
  {
   "attachments": {},
   "cell_type": "markdown",
   "metadata": {},
   "source": [
    "### Functions\n",
    "\n",
    "`weighted_frequency` calculates the frequency of `feature`, using the education weight `weight_edu`.\n",
    "\n",
    "`weighted_frequency` calculates the frequency of `feature` by `group`, using the education weight `weight_edu`."
   ]
  },
  {
   "cell_type": "code",
   "execution_count": null,
   "metadata": {},
   "outputs": [],
   "source": [
    "def weighted_frequency(df, feature, print_ = False):\n",
    "    series = df.groupby([feature])['weight_edu'].sum()\n",
    "\n",
    "     # convert pd.series to pd.dataframe\n",
    "    x = series.to_frame()\n",
    "\n",
    "    # rownames to new columns\n",
    "    x.index.name = feature\n",
    "    x.reset_index(inplace=True)\n",
    "\n",
    "     # rename column\n",
    "    x.rename(columns={'weight_edu': 'count'}, inplace = True)\n",
    "\n",
    "    # remove decimals\n",
    "    x = x.round(0)\n",
    "\n",
    "    # calculate percentage\n",
    "    x['pct'] = x['count'] / sum(x['count'])\n",
    "\n",
    "    if(print_):\n",
    "        print(x)\n",
    "    \n",
    "    return x\n",
    "\n"
   ]
  },
  {
   "cell_type": "code",
   "execution_count": null,
   "metadata": {},
   "outputs": [],
   "source": [
    "def weighted_frequency_by(df, group, feature, print_ = False):\n",
    "    series = df.groupby([group, feature])['weight_edu'].sum()\n",
    "\n",
    "    # convert pd.series to pd.dataframe\n",
    "    x = series.to_frame()\n",
    "\n",
    "    # rownames to new columns\n",
    "    x.index.name = feature\n",
    "    x.reset_index(inplace=True)\n",
    "\n",
    "    # rename column\n",
    "    x.rename(columns={'weight_edu': 'count'}, inplace = True)\n",
    "\n",
    "    # remove decimals\n",
    "    x = x.round(0)\n",
    "\n",
    "    # Calculate group count and percent per group\n",
    "    x['group_count'] = x.groupby([group]).transform('sum', numeric_only = True)\n",
    "    x['pct'] = x['count'] / x['group_count']\n",
    "\n",
    "    if(print_):\n",
    "        print(x)\n",
    "\n",
    "    return x\n"
   ]
  },
  {
   "attachments": {},
   "cell_type": "markdown",
   "metadata": {},
   "source": [
    "### Analysis\n",
    "\n",
    "In the following, the data visualized on www.trygghetsundersokelsen.no is reproduces."
   ]
  },
  {
   "cell_type": "code",
   "execution_count": null,
   "metadata": {},
   "outputs": [],
   "source": [
    "\n",
    "# ------------------------------------------------------------------------------------------------ #\n",
    "# urtrygg1: Percentage that feels unsafe if they go out alone at night in the area where they live #\n",
    "# ------------------------------------------------------------------------------------------------ #\n",
    "\n",
    "weighted_frequency(df, 'urtrygg1')\n",
    "\n",
    "weighted_frequency_by(df, 'utdanning_kort', 'urtrygg1')\n",
    "\n",
    "weighted_frequency_by(df, 'aldersgruppe_vuttrekk_dsf', 'urtrygg1')\n",
    "\n",
    "weighted_frequency_by(df, 'fylkenr_dsf', 'urtrygg1')\n"
   ]
  },
  {
   "cell_type": "code",
   "execution_count": null,
   "metadata": {},
   "outputs": [],
   "source": [
    "# ------------------------------------------------------------------- #\n",
    "# urtrygg2: Percentage that always plan ahead to avoid crime exposure #\n",
    "# ------------------------------------------------------------------- #\n",
    "weighted_frequency(df, 'urtrygg2')\n",
    "\n",
    "weighted_frequency_by(df, 'barn', 'urtrygg2')\n",
    "\n",
    "weighted_frequency_by(df, 'kjonn_dsf', 'urtrygg2')\n",
    "\n",
    "weighted_frequency_by(df, 'fylkenr_dsf', 'urtrygg2')"
   ]
  },
  {
   "cell_type": "code",
   "execution_count": null,
   "metadata": {},
   "outputs": [],
   "source": [
    "# ----------------------------------------------------------------- #\n",
    "# urtrygg3: Percentage that is worried about being exposed to crime #\n",
    "# ----------------------------------------------------------------- #\n",
    "\n",
    "weighted_frequency(df, 'urtrygg3')\n",
    "\n",
    "weighted_frequency_by(df, 'innvandret', 'urtrygg3')\n",
    "\n",
    "weighted_frequency_by(df, 'gift', 'urtrygg3')\n"
   ]
  },
  {
   "cell_type": "code",
   "execution_count": null,
   "metadata": {},
   "outputs": [],
   "source": [
    "# ------------------------------------------------------------ #\n",
    "# urkrim_1: Percentage that worries about exposure to burglary #\n",
    "# ------------------------------------------------------------ #\n",
    "\n",
    "weighted_frequency(df, 'urkrim_1')\n",
    "\n",
    "weighted_frequency_by(df, 'barn', 'urkrim_1')\n",
    "\n",
    "weighted_frequency_by(df, 'barn', 'urkrim_2')"
   ]
  },
  {
   "cell_type": "code",
   "execution_count": null,
   "metadata": {},
   "outputs": [],
   "source": [
    "\n",
    "# ------- #\n",
    "# Worries #\n",
    "# ------- #\n",
    "\n",
    "for feature in worry:\n",
    "    weighted_frequency(df, feature)\n"
   ]
  },
  {
   "cell_type": "code",
   "execution_count": null,
   "metadata": {},
   "outputs": [],
   "source": [
    "\n",
    "# -------------------------------------- #\n",
    "# Worries by demographic characteristics #\n",
    "# -------------------------------------- #\n",
    "\n",
    "for feature in worry:\n",
    "    for group in groups:\n",
    "        weighted_frequency_by(df, group, feature, print_ = True)"
   ]
  },
  {
   "cell_type": "code",
   "execution_count": null,
   "metadata": {},
   "outputs": [],
   "source": [
    "# -------- #\n",
    "# Exposure #\n",
    "# -------- #\n",
    "\n",
    "for feature in exposure:\n",
    "    weighted_frequency(df, feature, print_ = True)\n"
   ]
  },
  {
   "cell_type": "code",
   "execution_count": null,
   "metadata": {},
   "outputs": [],
   "source": [
    "\n",
    "# -------------------------------------- #\n",
    "# Exposure by demographic characteristics #\n",
    "# -------------------------------------- #\n",
    "\n",
    "for feature in exposure:\n",
    "    for group in groups:\n",
    "        weighted_frequency_by(df, group, feature, print_ = True)"
   ]
  }
 ],
 "metadata": {
  "kernelspec": {
   "display_name": ".venv",
   "language": "python",
   "name": "python3"
  },
  "language_info": {
   "name": "python",
   "version": "3.10.6"
  },
  "orig_nbformat": 4,
  "vscode": {
   "interpreter": {
    "hash": "23cc2dc7514777f06d56a05563a9cedc848fb7b30bdf91e630655eab2cf47826"
   }
  }
 },
 "nbformat": 4,
 "nbformat_minor": 2
}
